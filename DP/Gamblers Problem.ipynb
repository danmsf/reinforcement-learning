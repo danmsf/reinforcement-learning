{
 "cells": [
  {
   "cell_type": "markdown",
   "metadata": {},
   "source": [
    "### This is Example 4.3. Gambler’s Problem from Sutton's book.\n",
    "\n",
    "A gambler has the opportunity to make bets on the outcomes of a sequence of coin flips. \n",
    "If the coin comes up heads, he wins as many dollars as he has staked on that flip; \n",
    "if it is tails, he loses his stake. The game ends when the gambler wins by reaching his goal of $100, \n",
    "or loses by running out of money. \n",
    "\n",
    "On each flip, the gambler must decide what portion of his capital to stake, in integer numbers of dollars. \n",
    "This problem can be formulated as an undiscounted, episodic, finite MDP. \n",
    "\n",
    "The state is the gambler’s capital, s ∈ {1, 2, . . . , 99}.\n",
    "The actions are stakes, a ∈ {0, 1, . . . , min(s, 100 − s)}. \n",
    "The reward is zero on all transitions except those on which the gambler reaches his goal, when it is +1.\n",
    "\n",
    "The state-value function then gives the probability of winning from each state. A policy is a mapping from levels of capital to stakes. The optimal policy maximizes the probability of reaching the goal. Let p_h denote the probability of the coin coming up heads. If p_h is known, then the entire problem is known and it can be solved, for instance, by value iteration.\n"
   ]
  },
  {
   "cell_type": "code",
   "execution_count": 1,
   "metadata": {
    "collapsed": true
   },
   "outputs": [],
   "source": [
    "import numpy as np\n",
    "import sys\n",
    "import matplotlib.pyplot as plt\n",
    "if \"../\" not in sys.path:\n",
    "  sys.path.append(\"../\") "
   ]
  },
  {
   "cell_type": "markdown",
   "metadata": {},
   "source": [
    "\n",
    "### Exercise 4.9 (programming)\n",
    "\n",
    "Implement value iteration for the gambler’s problem and solve it for p_h = 0.25 and p_h = 0.55.\n",
    "\n"
   ]
  },
  {
   "cell_type": "code",
   "execution_count": 26,
   "metadata": {
    "collapsed": true
   },
   "outputs": [],
   "source": [
    "def value_iteration_for_gamblers(p_h, amnt = 100, theta=0.0001, discount_factor=1.0):\n",
    "    \"\"\"\n",
    "    Args:\n",
    "        p_h: Probability of the coin coming up heads\n",
    "    \"\"\"\n",
    "    \n",
    "    def one_step_lookahead(s, V, rewards):\n",
    "        \"\"\"\n",
    "        Helper function to calculate the value for all action in a given state.\n",
    "        \n",
    "        Args:\n",
    "            s: The gambler’s capital. Integer.\n",
    "            V: The vector that contains values at each state. \n",
    "            rewards: The reward vector.\n",
    "                        \n",
    "        Returns:\n",
    "            A vector containing the expected value of each action. \n",
    "            Its length equals to the number of actions.\n",
    "        \"\"\"\n",
    "        \n",
    "        # Implement!\n",
    "        A = np.zeros(amnt+1)\n",
    "        for a in range(1, min(s, amnt-s)+1):\n",
    "                A[a] = p_h * (rewards[s+a] + discount_factor * V[s+a]) + (1-p_h) * (rewards[s-a] + discount_factor * V[s-a])\n",
    "        return A\n",
    "    \n",
    "    V = np.zeros(amnt+1)\n",
    "    rewards = np.zeros(amnt+1)\n",
    "    rewards[-1] = 1\n",
    "    policy = np.zeros(amnt+1)\n",
    "    while True:\n",
    "        # Stopping condition\n",
    "        delta = 0\n",
    "        # Update each state...\n",
    "        for s in range(1,amnt):\n",
    "#             print(rewards)\n",
    "            # Do a one-step lookahead to find the best action\n",
    "            A = one_step_lookahead(s, V, rewards)\n",
    "#             print(A)\n",
    "            best_action_value = np.max(A)\n",
    "            # Calculate delta across all states seen so far\n",
    "            delta = max(delta, np.abs(best_action_value - V[s]))\n",
    "            # Update the value function. Ref: Sutton book eq. 4.10. \n",
    "            V[s] = best_action_value        \n",
    "            policy[s]  = np.argmax(A)\n",
    "            \n",
    "        # Check if we can stop \n",
    "        if delta < theta:\n",
    "            break\n",
    "\n",
    "    # Implement!\n",
    "    \n",
    "    return policy, V"
   ]
  },
  {
   "cell_type": "code",
   "execution_count": 28,
   "metadata": {
    "collapsed": true
   },
   "outputs": [
    {
     "name": "stdout",
     "output_type": "stream",
     "text": [
      "Optimized Policy:\n",
      "[  0.   1.   2.   3.   4.   5.   6.   7.   8.   9.  10.  11.  12.  12.\n",
      "  11.  10.   9.   8.   7.   6.   5.   4.   3.   2.   1.  25.   1.   2.\n",
      "   3.   4.   5.   6.   7.   8.   9.  10.  11.  12.  12.  11.  10.   9.\n",
      "   8.   7.   6.   5.   4.   3.   2.   1.  50.   1.   2.   3.   4.   5.\n",
      "   6.   7.   8.   9.  10.  11.  12.  12.  11.  10.   9.   8.   7.   6.\n",
      "   5.   4.   3.   2.   1.  25.   1.   2.   3.   4.   5.   6.   7.   8.\n",
      "   9.  10.  11.  12.  12.  11.  10.   9.   8.   7.   6.   5.   4.   3.\n",
      "   2.   1. 100.   1.   2.   3.   4.   5.   6.   7.   8.   9.  10.  11.\n",
      "  12.  12.  11.  10.   9.   8.   7.   6.   5.   4.   3.   2.   1.  25.\n",
      "   1.   2.   3.   4.   5.   6.   7.   8.   9.  10.  11.  12.  12.  11.\n",
      "  10.   9.   8.   7.   6.   5.   4.   3.   2.   1.  50.   1.   2.   3.\n",
      "   4.   5.   6.   7.   8.   9.  10.  11.  12.  12.  11.  10.   9.   8.\n",
      "   7.   6.   5.   4.   3.   2.   1.  25.   1.   2.   3.   4.   5.   6.\n",
      "   7.   8.   9.  10.  11.  12.  12.  11.  10.   9.   8.   7.   6.   5.\n",
      "   4.   3.   2.   1.   0.]\n",
      "\n",
      "Optimized Value Function:\n",
      "[0.00000000e+00 1.52587891e-05 7.24792480e-05 1.71720982e-04\n",
      " 2.89916992e-04 4.42266464e-04 6.95257448e-04 1.00785494e-03\n",
      " 1.16010383e-03 1.39999390e-03 1.76906586e-03 2.25830078e-03\n",
      " 2.78102979e-03 3.91769409e-03 4.03504074e-03 4.23794985e-03\n",
      " 4.66214120e-03 4.95624542e-03 5.59997559e-03 6.84452057e-03\n",
      " 7.08471239e-03 7.62343407e-03 9.03964043e-03 9.62382555e-03\n",
      " 1.11241192e-02 1.56250000e-02 1.56793594e-02 1.58424377e-02\n",
      " 1.61464431e-02 1.64950779e-02 1.69517994e-02 1.77107723e-02\n",
      " 1.86512806e-02 1.91216059e-02 1.98249817e-02 2.09385343e-02\n",
      " 2.24047303e-02 2.39680894e-02 2.73845196e-02 2.77348323e-02\n",
      " 2.83388495e-02 2.96134604e-02 3.04937363e-02 3.24285477e-02\n",
      " 3.61633897e-02 3.68791372e-02 3.84953022e-02 4.27475423e-02\n",
      " 4.44964767e-02 4.89973575e-02 6.25000000e-02 6.25543594e-02\n",
      " 6.27174377e-02 6.30214431e-02 6.33700779e-02 6.38267994e-02\n",
      " 6.45857723e-02 6.55262806e-02 6.59966059e-02 6.66999817e-02\n",
      " 6.78135343e-02 6.92797303e-02 7.08430894e-02 7.42595196e-02\n",
      " 7.46098323e-02 7.52138495e-02 7.64884604e-02 7.73687363e-02\n",
      " 7.93035477e-02 8.30383897e-02 8.37541372e-02 8.53703022e-02\n",
      " 8.96225423e-02 9.13714767e-02 9.58723575e-02 1.09375000e-01\n",
      " 1.09538078e-01 1.10027558e-01 1.10939329e-01 1.11997454e-01\n",
      " 1.13360151e-01 1.15632317e-01 1.18457374e-01 1.19866345e-01\n",
      " 1.21977661e-01 1.25315603e-01 1.29716907e-01 1.34404268e-01\n",
      " 1.44653559e-01 1.45704497e-01 1.47520113e-01 1.51343031e-01\n",
      " 1.53983246e-01 1.59787680e-01 1.70990169e-01 1.73140085e-01\n",
      " 1.77987434e-01 1.90742627e-01 1.95990576e-01 2.09492932e-01\n",
      " 2.50000000e-01 2.50054359e-01 2.50217438e-01 2.50521443e-01\n",
      " 2.50870078e-01 2.51326799e-01 2.52085772e-01 2.53026281e-01\n",
      " 2.53496606e-01 2.54199982e-01 2.55313534e-01 2.56779730e-01\n",
      " 2.58343089e-01 2.61759520e-01 2.62109832e-01 2.62713850e-01\n",
      " 2.63988460e-01 2.64868736e-01 2.66803548e-01 2.70538390e-01\n",
      " 2.71254137e-01 2.72870302e-01 2.77122542e-01 2.78871477e-01\n",
      " 2.83372357e-01 2.96875000e-01 2.97038078e-01 2.97527558e-01\n",
      " 2.98439329e-01 2.99497454e-01 3.00860151e-01 3.03132317e-01\n",
      " 3.05957374e-01 3.07366345e-01 3.09477661e-01 3.12815603e-01\n",
      " 3.17216907e-01 3.21904268e-01 3.32153559e-01 3.33204497e-01\n",
      " 3.35020113e-01 3.38843031e-01 3.41483246e-01 3.47287680e-01\n",
      " 3.58490169e-01 3.60640085e-01 3.65487434e-01 3.78242627e-01\n",
      " 3.83490576e-01 3.96992932e-01 4.37500000e-01 4.37663078e-01\n",
      " 4.38152558e-01 4.39064329e-01 4.40122454e-01 4.41485151e-01\n",
      " 4.43757317e-01 4.46582374e-01 4.47991345e-01 4.50102661e-01\n",
      " 4.53440603e-01 4.57841907e-01 4.62529268e-01 4.72778559e-01\n",
      " 4.73829497e-01 4.75645113e-01 4.79468031e-01 4.82108246e-01\n",
      " 4.87912680e-01 4.99115169e-01 5.01265085e-01 5.06112434e-01\n",
      " 5.18867627e-01 5.24115576e-01 5.37617932e-01 5.78125000e-01\n",
      " 5.78614419e-01 5.80091841e-01 5.82817988e-01 5.85993509e-01\n",
      " 5.90080452e-01 5.96896951e-01 6.05372123e-01 6.09601023e-01\n",
      " 6.15934510e-01 6.25948814e-01 6.39150720e-01 6.53213449e-01\n",
      " 6.83960814e-01 6.87113491e-01 6.92560339e-01 7.04029092e-01\n",
      " 7.11950883e-01 7.29363040e-01 7.62970611e-01 7.69420254e-01\n",
      " 7.83963162e-01 8.22227958e-01 8.37972371e-01 8.78479279e-01\n",
      " 0.00000000e+00]\n",
      "\n"
     ]
    }
   ],
   "source": [
    "policy, v = value_iteration_for_gamblers(0.25, 200)\n",
    "\n",
    "print(\"Optimized Policy:\")\n",
    "print(policy)\n",
    "print(\"\")\n",
    "\n",
    "print(\"Optimized Value Function:\")\n",
    "print(v)\n",
    "print(\"\")"
   ]
  },
  {
   "cell_type": "code",
   "execution_count": 4,
   "metadata": {},
   "outputs": [],
   "source": [
    "import matplotlib.pyplot as plt"
   ]
  },
  {
   "cell_type": "code",
   "execution_count": 39,
   "metadata": {
    "collapsed": true
   },
   "outputs": [
    {
     "data": {
      "image/png": "[encoded data removed]",
      "text/plain": [
       "<Figure size 432x288 with 1 Axes>"
      ]
     },
     "metadata": {},
     "output_type": "display_data"
    }
   ],
   "source": [
    "# Plotting Capital vs Final Policy\n",
    "amnt = 200\n",
    "plt.bar(list(range(0,amnt+1)),policy)\n",
    "plt.xlabel('capital')\n",
    "plt.ylabel('policy')\n",
    "plt.title('capital vs. policy')\n",
    "plt.show()\n",
    "# Implement!"
   ]
  },
  {
   "cell_type": "code",
   "execution_count": 40,
   "metadata": {
    "collapsed": true
   },
   "outputs": [
    {
     "data": {
      "image/png": "[encoded data removed]",
      "text/plain": [
       "<Figure size 432x288 with 1 Axes>"
      ]
     },
     "metadata": {},
     "output_type": "display_data"
    },
    {
     "data": {
      "text/plain": [
       "<function matplotlib.pyplot.title>"
      ]
     },
     "execution_count": 40,
     "metadata": {},
     "output_type": "execute_result"
    }
   ],
   "source": [
    "\n",
    "# Plotting Final Policy (action stake) vs State (Capital)\n",
    "v[-1] = 1\n",
    "plt.plot(list(range(amnt+1)), v)\n",
    "plt.xlabel('capital')\n",
    "plt.ylabel('value')\n",
    "plt.title('capital vs V*')\n",
    "plt.show()\n",
    "plt.title\n",
    "# Implement!\n"
   ]
  }
 ],
 "metadata": {
  "kernelspec": {
   "display_name": "Python 3",
   "language": "python",
   "name": "python3"
  },
  "language_info": {
   "codemirror_mode": {
    "name": "ipython",
    "version": 3
   },
   "file_extension": ".py",
   "mimetype": "text/x-python",
   "name": "python",
   "nbconvert_exporter": "python",
   "pygments_lexer": "ipython3",
   "version": "3.6.4"
  },
  "toc": {
   "nav_menu": {},
   "number_sections": true,
   "sideBar": true,
   "skip_h1_title": false,
   "toc_cell": false,
   "toc_position": {},
   "toc_section_display": "block",
   "toc_window_display": true
  }
 },
 "nbformat": 4,
 "nbformat_minor": 2
}
